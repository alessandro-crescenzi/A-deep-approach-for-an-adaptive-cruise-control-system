{
  "nbformat": 4,
  "nbformat_minor": 0,
  "metadata": {
    "colab": {
      "provenance": [],
      "authorship_tag": "ABX9TyNczrbmFKxXIAYc8AqJ/UCF",
      "include_colab_link": true
    },
    "kernelspec": {
      "name": "python3",
      "display_name": "Python 3"
    },
    "language_info": {
      "name": "python"
    },
    "accelerator": "GPU",
    "gpuClass": "standard"
  },
  "cells": [
    {
      "cell_type": "markdown",
      "metadata": {
        "id": "view-in-github",
        "colab_type": "text"
      },
      "source": [
        "<a href=\"https://colab.research.google.com/github/alessandro-crescenzi/computer_vision_project/blob/main/Traffic_Sign_Training.ipynb\" target=\"_parent\"><img src=\"https://colab.research.google.com/assets/colab-badge.svg\" alt=\"Open In Colab\"/></a>"
      ]
    },
    {
      "cell_type": "code",
      "source": [
        "!pip3 install deeplake"
      ],
      "metadata": {
        "id": "OWPckoO5M9lY"
      },
      "execution_count": null,
      "outputs": []
    },
    {
      "cell_type": "code",
      "execution_count": null,
      "metadata": {
        "id": "Eef9aXinMsKS"
      },
      "outputs": [],
      "source": [
        "import deeplake\n",
        "import torch\n",
        "from torchvision import transforms, models\n",
        "\n",
        "train = deeplake.load(\"hub://activeloop/gtsrb-train\")\n",
        "test = deeplake.load(\"hub://activeloop/gtsrb-test\")\n"
      ]
    },
    {
      "cell_type": "code",
      "source": [
        "device = torch.device(\"cuda\" if torch.cuda.is_available() else \"cpu\")\n",
        "print(\"Using device: \", device)"
      ],
      "metadata": {
        "id": "vakJX1NRQNK_"
      },
      "execution_count": null,
      "outputs": []
    },
    {
      "cell_type": "code",
      "source": [
        "tform = transforms.Compose([\n",
        "    transforms.ToTensor(),\n",
        "    transforms.Resize((48, 48)), \n",
        "    #transforms.Normalize([0.5, 0.5, 0.5], [0.5, 0.5, 0.5]),\n",
        "])\n",
        "\n",
        "train_loader = train.pytorch(num_workers=0, batch_size=4, transform={\n",
        "                        'images': tform, 'labels': None}, shuffle=True)\n",
        "\n",
        "test_loader = train.pytorch(num_workers=0, batch_size=4, transform={\n",
        "                        'images': tform, 'labels': None}, shuffle=True)"
      ],
      "metadata": {
        "id": "3xSJd-XSIsQT"
      },
      "execution_count": null,
      "outputs": []
    },
    {
      "cell_type": "code",
      "source": [
        "net = models.resnet18()\n",
        "net.fc = torch.nn.Linear(net.fc.in_features, len(train.labels.info.class_names))\n",
        "net = net.to(device)\n",
        "    \n",
        "criterion = torch.nn.CrossEntropyLoss()\n",
        "optimizer = torch.optim.SGD(net.parameters(), lr=0.001, momentum=0.9)"
      ],
      "metadata": {
        "id": "EE8onOZbNsFX"
      },
      "execution_count": 6,
      "outputs": []
    },
    {
      "cell_type": "code",
      "source": [
        "for epoch in range(2):\n",
        "    running_loss = 0.0\n",
        "    for i, data in enumerate(train_loader):\n",
        "        images, labels = data['images'].to(device), data['labels'].to(device)\n",
        "        #print (labels)\n",
        "        \n",
        "        # zero the parameter gradients\n",
        "        optimizer.zero_grad()\n",
        "\n",
        "        # forward + backward + optimize\n",
        "        outputs = net(images)\n",
        "        loss = criterion(outputs, labels.reshape(-1))\n",
        "        loss.backward()\n",
        "        optimizer.step()\n",
        "        \n",
        "        # print statistics\n",
        "        running_loss += loss.item()\n",
        "        if i % 100 == 99:    # print every 100 mini-batches\n",
        "            print('[%d, %5d] loss: %.3f' %\n",
        "                (epoch + 1, i + 1, running_loss / 100))\n",
        "            running_loss = 0.0"
      ],
      "metadata": {
        "id": "4yQpCqy6G73i"
      },
      "execution_count": null,
      "outputs": []
    },
    {
      "cell_type": "code",
      "source": [
        "import time\n",
        "\n",
        "for i, data in enumerate(test_loader):\n",
        "        images, labels = data['images'].to(device), data['labels'].to(device)\n",
        "\n",
        "        outputs = net(images)\n",
        "\n",
        "        pred = outputs.data.max(1, keepdim=True)[1] # get the index of the max log-probability\n",
        "\n",
        "        #labels = labels[:, 0]\n",
        "        #pred = pred[:, 0]\n",
        "\n",
        "        correct = torch.eq(pred, labels)\n",
        "\n",
        "        print (\"Correct : \" + str(correct))\n",
        "        print (\"Label:\")\n",
        "        print (labels)\n",
        "        print (\"Pred:\")\n",
        "        print (pred)\n",
        "        time.sleep(10)\n",
        "\n",
        "\n"
      ],
      "metadata": {
        "id": "wI6WBqhKuIO5"
      },
      "execution_count": null,
      "outputs": []
    }
  ]
}